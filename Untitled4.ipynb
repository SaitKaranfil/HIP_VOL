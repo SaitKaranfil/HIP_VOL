{
  "nbformat": 4,
  "nbformat_minor": 0,
  "metadata": {
    "colab": {
      "provenance": [],
      "collapsed_sections": []
    },
    "kernelspec": {
      "name": "python3",
      "display_name": "Python 3"
    },
    "language_info": {
      "name": "python"
    }
  },
  "cells": [
    {
      "cell_type": "code",
      "execution_count": 2,
      "metadata": {
        "id": "QRHH9p60shRa"
      },
      "outputs": [],
      "source": [
        "import pandas as pd\n",
        "import seaborn as sbn\n",
        "import matplotlib.pyplot as plt\n",
        "\n"
      ]
    },
    {
      "cell_type": "code",
      "source": [
        "data_short=pd.read_csv(\"CDR_Values_y_train.csv\")"
      ],
      "metadata": {
        "id": "dydpRcqissRI"
      },
      "execution_count": 6,
      "outputs": []
    },
    {
      "cell_type": "code",
      "source": [
        "data_big=pd.read_csv(\"MRI_and_CDRinfo_Values_X_train.csv\")"
      ],
      "metadata": {
        "colab": {
          "base_uri": "https://localhost:8080/"
        },
        "id": "8MNaV0Zis92k",
        "outputId": "d855b410-c35f-463d-8e21-c87cbbf6c89f"
      },
      "execution_count": 7,
      "outputs": [
        {
          "output_type": "stream",
          "name": "stderr",
          "text": [
            "/usr/local/lib/python3.7/dist-packages/IPython/core/interactiveshell.py:3326: DtypeWarning: Columns (22,24,41,46,48,51,90,91,92,93,94,95,96,97,98,99,100,167,205,208,210,213,216,219,221,223,225,227,229,231,235,237,239,241,243,245,247,249,251,253,255,365,380,382,384,402,404,406,551,634,651,654,659,689,770,776,900,908,943,946,964,965,974,1176) have mixed types.Specify dtype option on import or set low_memory=False.\n",
            "  exec(code_obj, self.user_global_ns, self.user_ns)\n"
          ]
        }
      ]
    },
    {
      "cell_type": "code",
      "source": [
        "data_big\n"
      ],
      "metadata": {
        "colab": {
          "base_uri": "https://localhost:8080/",
          "height": 505
        },
        "id": "obzdIxwJtI9B",
        "outputId": "189702ce-6ad5-480f-b164-03bceddeeedf"
      },
      "execution_count": 12,
      "outputs": [
        {
          "output_type": "execute_result",
          "data": {
            "text/plain": [
              "      Unnamed: 0  Unnamed: 0.1  index_x    NACCID_x  NACCADC_x PACKET  \\\n",
              "0           1970          1970   116428  NACC831508       6518      I   \n",
              "1           1146          1146   110463  NACC719761       6499      I   \n",
              "2            675           675   106548  NACC979197       6061      F   \n",
              "3           1268          1268   111371  NACC917131       6499      I   \n",
              "4           2323          2323   161286  NACC056098       9661      F   \n",
              "...          ...           ...      ...         ...        ...    ...   \n",
              "1583         984           984   109131  NACC467810       6499      I   \n",
              "1584        1325          1325   111836  NACC015713       6518      I   \n",
              "1585         788           788   107627  NACC172271       6499      I   \n",
              "1586         195           195    33729  NACC692052       2096      I   \n",
              "1587        1206          1206   110911  NACC817729       6499      I   \n",
              "\n",
              "      FORMVER  VISITMO  VISITDAY  VISITYR  ...  RSUPPARM  RSUPTEM  RSUPTEMM  \\\n",
              "0         1.0        5        23     2007  ...    0.9674   9.7215    2.1089   \n",
              "1         2.0        9        24     2010  ...    1.5867  15.1130    2.1134   \n",
              "2         2.0        7        18     2012  ...    1.2816  14.1317    2.2958   \n",
              "3         2.0        2        21     2013  ...    1.6097  16.3510    2.0591   \n",
              "4         2.0        1         8     2015  ...    1.7000  13.7700    2.1000   \n",
              "...       ...      ...       ...      ...  ...       ...      ...       ...   \n",
              "1583      2.0        9        12     2012  ...    1.8563  17.1000    2.3453   \n",
              "1584      2.0        7        23     2008  ...    1.0263  11.3599    1.6028   \n",
              "1585      2.0        2        11     2010  ...    1.3898  13.0690    2.0945   \n",
              "1586      1.0        4        13     2006  ...    1.7100  15.8200    1.7800   \n",
              "1587      2.0        9        16     2014  ...    1.4340  17.4550    2.5213   \n",
              "\n",
              "      RSUPMAR  RSUPMARM  RTRTEM  RTRTEMM  NACCNMRI_y  NACCVNUM_y  \\\n",
              "0      5.2785    1.1998  0.3315   0.3810           1           1   \n",
              "1     12.2880    1.8935  0.9070   1.8444           1           1   \n",
              "2      6.9755    1.7738  0.7716   1.5066           3           3   \n",
              "3      9.3860    1.7700  1.2190   1.9347           1           1   \n",
              "4     11.1200    2.1400  1.3100   1.5200           1           8   \n",
              "...       ...       ...     ...      ...         ...         ...   \n",
              "1583  10.5410    1.8922  0.6160   1.1062           2           1   \n",
              "1584   5.7364    1.7879  0.4821   0.5913           3           1   \n",
              "1585   8.0590    1.8262  0.7670   1.5666           1           1   \n",
              "1586   6.5300    1.8600  0.8000   1.4700           1           1   \n",
              "1587   9.2130    1.8644  1.0380   1.6146           1           1   \n",
              "\n",
              "      original_ind_y  \n",
              "0               5342  \n",
              "1               7855  \n",
              "2               1948  \n",
              "3               8348  \n",
              "4                 28  \n",
              "...              ...  \n",
              "1583            8268  \n",
              "1584            4835  \n",
              "1585            7782  \n",
              "1586            1797  \n",
              "1587            8629  \n",
              "\n",
              "[1588 rows x 1380 columns]"
            ],
            "text/html": [
              "\n",
              "  <div id=\"df-15be9235-521c-47b8-85cf-49d54279d3b4\">\n",
              "    <div class=\"colab-df-container\">\n",
              "      <div>\n",
              "<style scoped>\n",
              "    .dataframe tbody tr th:only-of-type {\n",
              "        vertical-align: middle;\n",
              "    }\n",
              "\n",
              "    .dataframe tbody tr th {\n",
              "        vertical-align: top;\n",
              "    }\n",
              "\n",
              "    .dataframe thead th {\n",
              "        text-align: right;\n",
              "    }\n",
              "</style>\n",
              "<table border=\"1\" class=\"dataframe\">\n",
              "  <thead>\n",
              "    <tr style=\"text-align: right;\">\n",
              "      <th></th>\n",
              "      <th>Unnamed: 0</th>\n",
              "      <th>Unnamed: 0.1</th>\n",
              "      <th>index_x</th>\n",
              "      <th>NACCID_x</th>\n",
              "      <th>NACCADC_x</th>\n",
              "      <th>PACKET</th>\n",
              "      <th>FORMVER</th>\n",
              "      <th>VISITMO</th>\n",
              "      <th>VISITDAY</th>\n",
              "      <th>VISITYR</th>\n",
              "      <th>...</th>\n",
              "      <th>RSUPPARM</th>\n",
              "      <th>RSUPTEM</th>\n",
              "      <th>RSUPTEMM</th>\n",
              "      <th>RSUPMAR</th>\n",
              "      <th>RSUPMARM</th>\n",
              "      <th>RTRTEM</th>\n",
              "      <th>RTRTEMM</th>\n",
              "      <th>NACCNMRI_y</th>\n",
              "      <th>NACCVNUM_y</th>\n",
              "      <th>original_ind_y</th>\n",
              "    </tr>\n",
              "  </thead>\n",
              "  <tbody>\n",
              "    <tr>\n",
              "      <th>0</th>\n",
              "      <td>1970</td>\n",
              "      <td>1970</td>\n",
              "      <td>116428</td>\n",
              "      <td>NACC831508</td>\n",
              "      <td>6518</td>\n",
              "      <td>I</td>\n",
              "      <td>1.0</td>\n",
              "      <td>5</td>\n",
              "      <td>23</td>\n",
              "      <td>2007</td>\n",
              "      <td>...</td>\n",
              "      <td>0.9674</td>\n",
              "      <td>9.7215</td>\n",
              "      <td>2.1089</td>\n",
              "      <td>5.2785</td>\n",
              "      <td>1.1998</td>\n",
              "      <td>0.3315</td>\n",
              "      <td>0.3810</td>\n",
              "      <td>1</td>\n",
              "      <td>1</td>\n",
              "      <td>5342</td>\n",
              "    </tr>\n",
              "    <tr>\n",
              "      <th>1</th>\n",
              "      <td>1146</td>\n",
              "      <td>1146</td>\n",
              "      <td>110463</td>\n",
              "      <td>NACC719761</td>\n",
              "      <td>6499</td>\n",
              "      <td>I</td>\n",
              "      <td>2.0</td>\n",
              "      <td>9</td>\n",
              "      <td>24</td>\n",
              "      <td>2010</td>\n",
              "      <td>...</td>\n",
              "      <td>1.5867</td>\n",
              "      <td>15.1130</td>\n",
              "      <td>2.1134</td>\n",
              "      <td>12.2880</td>\n",
              "      <td>1.8935</td>\n",
              "      <td>0.9070</td>\n",
              "      <td>1.8444</td>\n",
              "      <td>1</td>\n",
              "      <td>1</td>\n",
              "      <td>7855</td>\n",
              "    </tr>\n",
              "    <tr>\n",
              "      <th>2</th>\n",
              "      <td>675</td>\n",
              "      <td>675</td>\n",
              "      <td>106548</td>\n",
              "      <td>NACC979197</td>\n",
              "      <td>6061</td>\n",
              "      <td>F</td>\n",
              "      <td>2.0</td>\n",
              "      <td>7</td>\n",
              "      <td>18</td>\n",
              "      <td>2012</td>\n",
              "      <td>...</td>\n",
              "      <td>1.2816</td>\n",
              "      <td>14.1317</td>\n",
              "      <td>2.2958</td>\n",
              "      <td>6.9755</td>\n",
              "      <td>1.7738</td>\n",
              "      <td>0.7716</td>\n",
              "      <td>1.5066</td>\n",
              "      <td>3</td>\n",
              "      <td>3</td>\n",
              "      <td>1948</td>\n",
              "    </tr>\n",
              "    <tr>\n",
              "      <th>3</th>\n",
              "      <td>1268</td>\n",
              "      <td>1268</td>\n",
              "      <td>111371</td>\n",
              "      <td>NACC917131</td>\n",
              "      <td>6499</td>\n",
              "      <td>I</td>\n",
              "      <td>2.0</td>\n",
              "      <td>2</td>\n",
              "      <td>21</td>\n",
              "      <td>2013</td>\n",
              "      <td>...</td>\n",
              "      <td>1.6097</td>\n",
              "      <td>16.3510</td>\n",
              "      <td>2.0591</td>\n",
              "      <td>9.3860</td>\n",
              "      <td>1.7700</td>\n",
              "      <td>1.2190</td>\n",
              "      <td>1.9347</td>\n",
              "      <td>1</td>\n",
              "      <td>1</td>\n",
              "      <td>8348</td>\n",
              "    </tr>\n",
              "    <tr>\n",
              "      <th>4</th>\n",
              "      <td>2323</td>\n",
              "      <td>2323</td>\n",
              "      <td>161286</td>\n",
              "      <td>NACC056098</td>\n",
              "      <td>9661</td>\n",
              "      <td>F</td>\n",
              "      <td>2.0</td>\n",
              "      <td>1</td>\n",
              "      <td>8</td>\n",
              "      <td>2015</td>\n",
              "      <td>...</td>\n",
              "      <td>1.7000</td>\n",
              "      <td>13.7700</td>\n",
              "      <td>2.1000</td>\n",
              "      <td>11.1200</td>\n",
              "      <td>2.1400</td>\n",
              "      <td>1.3100</td>\n",
              "      <td>1.5200</td>\n",
              "      <td>1</td>\n",
              "      <td>8</td>\n",
              "      <td>28</td>\n",
              "    </tr>\n",
              "    <tr>\n",
              "      <th>...</th>\n",
              "      <td>...</td>\n",
              "      <td>...</td>\n",
              "      <td>...</td>\n",
              "      <td>...</td>\n",
              "      <td>...</td>\n",
              "      <td>...</td>\n",
              "      <td>...</td>\n",
              "      <td>...</td>\n",
              "      <td>...</td>\n",
              "      <td>...</td>\n",
              "      <td>...</td>\n",
              "      <td>...</td>\n",
              "      <td>...</td>\n",
              "      <td>...</td>\n",
              "      <td>...</td>\n",
              "      <td>...</td>\n",
              "      <td>...</td>\n",
              "      <td>...</td>\n",
              "      <td>...</td>\n",
              "      <td>...</td>\n",
              "      <td>...</td>\n",
              "    </tr>\n",
              "    <tr>\n",
              "      <th>1583</th>\n",
              "      <td>984</td>\n",
              "      <td>984</td>\n",
              "      <td>109131</td>\n",
              "      <td>NACC467810</td>\n",
              "      <td>6499</td>\n",
              "      <td>I</td>\n",
              "      <td>2.0</td>\n",
              "      <td>9</td>\n",
              "      <td>12</td>\n",
              "      <td>2012</td>\n",
              "      <td>...</td>\n",
              "      <td>1.8563</td>\n",
              "      <td>17.1000</td>\n",
              "      <td>2.3453</td>\n",
              "      <td>10.5410</td>\n",
              "      <td>1.8922</td>\n",
              "      <td>0.6160</td>\n",
              "      <td>1.1062</td>\n",
              "      <td>2</td>\n",
              "      <td>1</td>\n",
              "      <td>8268</td>\n",
              "    </tr>\n",
              "    <tr>\n",
              "      <th>1584</th>\n",
              "      <td>1325</td>\n",
              "      <td>1325</td>\n",
              "      <td>111836</td>\n",
              "      <td>NACC015713</td>\n",
              "      <td>6518</td>\n",
              "      <td>I</td>\n",
              "      <td>2.0</td>\n",
              "      <td>7</td>\n",
              "      <td>23</td>\n",
              "      <td>2008</td>\n",
              "      <td>...</td>\n",
              "      <td>1.0263</td>\n",
              "      <td>11.3599</td>\n",
              "      <td>1.6028</td>\n",
              "      <td>5.7364</td>\n",
              "      <td>1.7879</td>\n",
              "      <td>0.4821</td>\n",
              "      <td>0.5913</td>\n",
              "      <td>3</td>\n",
              "      <td>1</td>\n",
              "      <td>4835</td>\n",
              "    </tr>\n",
              "    <tr>\n",
              "      <th>1585</th>\n",
              "      <td>788</td>\n",
              "      <td>788</td>\n",
              "      <td>107627</td>\n",
              "      <td>NACC172271</td>\n",
              "      <td>6499</td>\n",
              "      <td>I</td>\n",
              "      <td>2.0</td>\n",
              "      <td>2</td>\n",
              "      <td>11</td>\n",
              "      <td>2010</td>\n",
              "      <td>...</td>\n",
              "      <td>1.3898</td>\n",
              "      <td>13.0690</td>\n",
              "      <td>2.0945</td>\n",
              "      <td>8.0590</td>\n",
              "      <td>1.8262</td>\n",
              "      <td>0.7670</td>\n",
              "      <td>1.5666</td>\n",
              "      <td>1</td>\n",
              "      <td>1</td>\n",
              "      <td>7782</td>\n",
              "    </tr>\n",
              "    <tr>\n",
              "      <th>1586</th>\n",
              "      <td>195</td>\n",
              "      <td>195</td>\n",
              "      <td>33729</td>\n",
              "      <td>NACC692052</td>\n",
              "      <td>2096</td>\n",
              "      <td>I</td>\n",
              "      <td>1.0</td>\n",
              "      <td>4</td>\n",
              "      <td>13</td>\n",
              "      <td>2006</td>\n",
              "      <td>...</td>\n",
              "      <td>1.7100</td>\n",
              "      <td>15.8200</td>\n",
              "      <td>1.7800</td>\n",
              "      <td>6.5300</td>\n",
              "      <td>1.8600</td>\n",
              "      <td>0.8000</td>\n",
              "      <td>1.4700</td>\n",
              "      <td>1</td>\n",
              "      <td>1</td>\n",
              "      <td>1797</td>\n",
              "    </tr>\n",
              "    <tr>\n",
              "      <th>1587</th>\n",
              "      <td>1206</td>\n",
              "      <td>1206</td>\n",
              "      <td>110911</td>\n",
              "      <td>NACC817729</td>\n",
              "      <td>6499</td>\n",
              "      <td>I</td>\n",
              "      <td>2.0</td>\n",
              "      <td>9</td>\n",
              "      <td>16</td>\n",
              "      <td>2014</td>\n",
              "      <td>...</td>\n",
              "      <td>1.4340</td>\n",
              "      <td>17.4550</td>\n",
              "      <td>2.5213</td>\n",
              "      <td>9.2130</td>\n",
              "      <td>1.8644</td>\n",
              "      <td>1.0380</td>\n",
              "      <td>1.6146</td>\n",
              "      <td>1</td>\n",
              "      <td>1</td>\n",
              "      <td>8629</td>\n",
              "    </tr>\n",
              "  </tbody>\n",
              "</table>\n",
              "<p>1588 rows × 1380 columns</p>\n",
              "</div>\n",
              "      <button class=\"colab-df-convert\" onclick=\"convertToInteractive('df-15be9235-521c-47b8-85cf-49d54279d3b4')\"\n",
              "              title=\"Convert this dataframe to an interactive table.\"\n",
              "              style=\"display:none;\">\n",
              "        \n",
              "  <svg xmlns=\"http://www.w3.org/2000/svg\" height=\"24px\"viewBox=\"0 0 24 24\"\n",
              "       width=\"24px\">\n",
              "    <path d=\"M0 0h24v24H0V0z\" fill=\"none\"/>\n",
              "    <path d=\"M18.56 5.44l.94 2.06.94-2.06 2.06-.94-2.06-.94-.94-2.06-.94 2.06-2.06.94zm-11 1L8.5 8.5l.94-2.06 2.06-.94-2.06-.94L8.5 2.5l-.94 2.06-2.06.94zm10 10l.94 2.06.94-2.06 2.06-.94-2.06-.94-.94-2.06-.94 2.06-2.06.94z\"/><path d=\"M17.41 7.96l-1.37-1.37c-.4-.4-.92-.59-1.43-.59-.52 0-1.04.2-1.43.59L10.3 9.45l-7.72 7.72c-.78.78-.78 2.05 0 2.83L4 21.41c.39.39.9.59 1.41.59.51 0 1.02-.2 1.41-.59l7.78-7.78 2.81-2.81c.8-.78.8-2.07 0-2.86zM5.41 20L4 18.59l7.72-7.72 1.47 1.35L5.41 20z\"/>\n",
              "  </svg>\n",
              "      </button>\n",
              "      \n",
              "  <style>\n",
              "    .colab-df-container {\n",
              "      display:flex;\n",
              "      flex-wrap:wrap;\n",
              "      gap: 12px;\n",
              "    }\n",
              "\n",
              "    .colab-df-convert {\n",
              "      background-color: #E8F0FE;\n",
              "      border: none;\n",
              "      border-radius: 50%;\n",
              "      cursor: pointer;\n",
              "      display: none;\n",
              "      fill: #1967D2;\n",
              "      height: 32px;\n",
              "      padding: 0 0 0 0;\n",
              "      width: 32px;\n",
              "    }\n",
              "\n",
              "    .colab-df-convert:hover {\n",
              "      background-color: #E2EBFA;\n",
              "      box-shadow: 0px 1px 2px rgba(60, 64, 67, 0.3), 0px 1px 3px 1px rgba(60, 64, 67, 0.15);\n",
              "      fill: #174EA6;\n",
              "    }\n",
              "\n",
              "    [theme=dark] .colab-df-convert {\n",
              "      background-color: #3B4455;\n",
              "      fill: #D2E3FC;\n",
              "    }\n",
              "\n",
              "    [theme=dark] .colab-df-convert:hover {\n",
              "      background-color: #434B5C;\n",
              "      box-shadow: 0px 1px 3px 1px rgba(0, 0, 0, 0.15);\n",
              "      filter: drop-shadow(0px 1px 2px rgba(0, 0, 0, 0.3));\n",
              "      fill: #FFFFFF;\n",
              "    }\n",
              "  </style>\n",
              "\n",
              "      <script>\n",
              "        const buttonEl =\n",
              "          document.querySelector('#df-15be9235-521c-47b8-85cf-49d54279d3b4 button.colab-df-convert');\n",
              "        buttonEl.style.display =\n",
              "          google.colab.kernel.accessAllowed ? 'block' : 'none';\n",
              "\n",
              "        async function convertToInteractive(key) {\n",
              "          const element = document.querySelector('#df-15be9235-521c-47b8-85cf-49d54279d3b4');\n",
              "          const dataTable =\n",
              "            await google.colab.kernel.invokeFunction('convertToInteractive',\n",
              "                                                     [key], {});\n",
              "          if (!dataTable) return;\n",
              "\n",
              "          const docLinkHtml = 'Like what you see? Visit the ' +\n",
              "            '<a target=\"_blank\" href=https://colab.research.google.com/notebooks/data_table.ipynb>data table notebook</a>'\n",
              "            + ' to learn more about interactive tables.';\n",
              "          element.innerHTML = '';\n",
              "          dataTable['output_type'] = 'display_data';\n",
              "          await google.colab.output.renderOutput(dataTable, element);\n",
              "          const docLink = document.createElement('div');\n",
              "          docLink.innerHTML = docLinkHtml;\n",
              "          element.appendChild(docLink);\n",
              "        }\n",
              "      </script>\n",
              "    </div>\n",
              "  </div>\n",
              "  "
            ]
          },
          "metadata": {},
          "execution_count": 12
        }
      ]
    },
    {
      "cell_type": "code",
      "source": [
        "data_short[\"WHITEVOL\"]=data_big[\"WHITEVOL\"]"
      ],
      "metadata": {
        "id": "sw60IUR1uxZ3"
      },
      "execution_count": 59,
      "outputs": []
    },
    {
      "cell_type": "code",
      "source": [
        "data_short[\"WMHVOL\"]=data_big[\"WMHVOL\"]"
      ],
      "metadata": {
        "id": "gp0qDQ31vBXT"
      },
      "execution_count": 60,
      "outputs": []
    },
    {
      "cell_type": "code",
      "source": [
        "data_short[\"CSFVOL\"]=data_big[\"CSFVOL\"]"
      ],
      "metadata": {
        "id": "tCeBzNrJvExZ"
      },
      "execution_count": 61,
      "outputs": []
    },
    {
      "cell_type": "code",
      "source": [
        "data_short[\"GENDER\"]=data_big[\"SEX\"]"
      ],
      "metadata": {
        "id": "PJ5_xSx6xygv"
      },
      "execution_count": 62,
      "outputs": []
    },
    {
      "cell_type": "code",
      "source": [
        "data_short"
      ],
      "metadata": {
        "colab": {
          "base_uri": "https://localhost:8080/",
          "height": 424
        },
        "id": "1Gzs2YUEuWNM",
        "outputId": "903434b8-8d39-4a27-bbca-2ed6d62048cc"
      },
      "execution_count": 63,
      "outputs": [
        {
          "output_type": "execute_result",
          "data": {
            "text/plain": [
              "      Unnamed: 0  CDRGLOB   NACCICV   CSFVOL   WMHVOL  WHITEVOL  GENDER\n",
              "0           1970        0  1170.250  324.154  16.0665   402.036       2\n",
              "1           1146        0  1575.523  334.325   0.5220   545.813       2\n",
              "2            675        0  1244.215  278.948   2.4232   416.985       2\n",
              "3           1268        2  1607.727  356.051   0.0950   557.680       1\n",
              "4           2323        0  1528.400  391.970  30.6100   457.190       2\n",
              "...          ...      ...       ...      ...      ...       ...     ...\n",
              "1583         984        1  1581.021  380.988   1.7290   512.802       1\n",
              "1584        1325        1  1343.301  344.201  16.2823   433.858       1\n",
              "1585         788        2  1300.374  333.858   4.4580   409.195       1\n",
              "1586         195        1  1646.150  453.300   3.0300   520.820       1\n",
              "1587        1206        0  1613.629  361.015   0.6010   547.437       1\n",
              "\n",
              "[1588 rows x 7 columns]"
            ],
            "text/html": [
              "\n",
              "  <div id=\"df-23b634ff-0ae9-4d68-b868-7b0c780277f1\">\n",
              "    <div class=\"colab-df-container\">\n",
              "      <div>\n",
              "<style scoped>\n",
              "    .dataframe tbody tr th:only-of-type {\n",
              "        vertical-align: middle;\n",
              "    }\n",
              "\n",
              "    .dataframe tbody tr th {\n",
              "        vertical-align: top;\n",
              "    }\n",
              "\n",
              "    .dataframe thead th {\n",
              "        text-align: right;\n",
              "    }\n",
              "</style>\n",
              "<table border=\"1\" class=\"dataframe\">\n",
              "  <thead>\n",
              "    <tr style=\"text-align: right;\">\n",
              "      <th></th>\n",
              "      <th>Unnamed: 0</th>\n",
              "      <th>CDRGLOB</th>\n",
              "      <th>NACCICV</th>\n",
              "      <th>CSFVOL</th>\n",
              "      <th>WMHVOL</th>\n",
              "      <th>WHITEVOL</th>\n",
              "      <th>GENDER</th>\n",
              "    </tr>\n",
              "  </thead>\n",
              "  <tbody>\n",
              "    <tr>\n",
              "      <th>0</th>\n",
              "      <td>1970</td>\n",
              "      <td>0</td>\n",
              "      <td>1170.250</td>\n",
              "      <td>324.154</td>\n",
              "      <td>16.0665</td>\n",
              "      <td>402.036</td>\n",
              "      <td>2</td>\n",
              "    </tr>\n",
              "    <tr>\n",
              "      <th>1</th>\n",
              "      <td>1146</td>\n",
              "      <td>0</td>\n",
              "      <td>1575.523</td>\n",
              "      <td>334.325</td>\n",
              "      <td>0.5220</td>\n",
              "      <td>545.813</td>\n",
              "      <td>2</td>\n",
              "    </tr>\n",
              "    <tr>\n",
              "      <th>2</th>\n",
              "      <td>675</td>\n",
              "      <td>0</td>\n",
              "      <td>1244.215</td>\n",
              "      <td>278.948</td>\n",
              "      <td>2.4232</td>\n",
              "      <td>416.985</td>\n",
              "      <td>2</td>\n",
              "    </tr>\n",
              "    <tr>\n",
              "      <th>3</th>\n",
              "      <td>1268</td>\n",
              "      <td>2</td>\n",
              "      <td>1607.727</td>\n",
              "      <td>356.051</td>\n",
              "      <td>0.0950</td>\n",
              "      <td>557.680</td>\n",
              "      <td>1</td>\n",
              "    </tr>\n",
              "    <tr>\n",
              "      <th>4</th>\n",
              "      <td>2323</td>\n",
              "      <td>0</td>\n",
              "      <td>1528.400</td>\n",
              "      <td>391.970</td>\n",
              "      <td>30.6100</td>\n",
              "      <td>457.190</td>\n",
              "      <td>2</td>\n",
              "    </tr>\n",
              "    <tr>\n",
              "      <th>...</th>\n",
              "      <td>...</td>\n",
              "      <td>...</td>\n",
              "      <td>...</td>\n",
              "      <td>...</td>\n",
              "      <td>...</td>\n",
              "      <td>...</td>\n",
              "      <td>...</td>\n",
              "    </tr>\n",
              "    <tr>\n",
              "      <th>1583</th>\n",
              "      <td>984</td>\n",
              "      <td>1</td>\n",
              "      <td>1581.021</td>\n",
              "      <td>380.988</td>\n",
              "      <td>1.7290</td>\n",
              "      <td>512.802</td>\n",
              "      <td>1</td>\n",
              "    </tr>\n",
              "    <tr>\n",
              "      <th>1584</th>\n",
              "      <td>1325</td>\n",
              "      <td>1</td>\n",
              "      <td>1343.301</td>\n",
              "      <td>344.201</td>\n",
              "      <td>16.2823</td>\n",
              "      <td>433.858</td>\n",
              "      <td>1</td>\n",
              "    </tr>\n",
              "    <tr>\n",
              "      <th>1585</th>\n",
              "      <td>788</td>\n",
              "      <td>2</td>\n",
              "      <td>1300.374</td>\n",
              "      <td>333.858</td>\n",
              "      <td>4.4580</td>\n",
              "      <td>409.195</td>\n",
              "      <td>1</td>\n",
              "    </tr>\n",
              "    <tr>\n",
              "      <th>1586</th>\n",
              "      <td>195</td>\n",
              "      <td>1</td>\n",
              "      <td>1646.150</td>\n",
              "      <td>453.300</td>\n",
              "      <td>3.0300</td>\n",
              "      <td>520.820</td>\n",
              "      <td>1</td>\n",
              "    </tr>\n",
              "    <tr>\n",
              "      <th>1587</th>\n",
              "      <td>1206</td>\n",
              "      <td>0</td>\n",
              "      <td>1613.629</td>\n",
              "      <td>361.015</td>\n",
              "      <td>0.6010</td>\n",
              "      <td>547.437</td>\n",
              "      <td>1</td>\n",
              "    </tr>\n",
              "  </tbody>\n",
              "</table>\n",
              "<p>1588 rows × 7 columns</p>\n",
              "</div>\n",
              "      <button class=\"colab-df-convert\" onclick=\"convertToInteractive('df-23b634ff-0ae9-4d68-b868-7b0c780277f1')\"\n",
              "              title=\"Convert this dataframe to an interactive table.\"\n",
              "              style=\"display:none;\">\n",
              "        \n",
              "  <svg xmlns=\"http://www.w3.org/2000/svg\" height=\"24px\"viewBox=\"0 0 24 24\"\n",
              "       width=\"24px\">\n",
              "    <path d=\"M0 0h24v24H0V0z\" fill=\"none\"/>\n",
              "    <path d=\"M18.56 5.44l.94 2.06.94-2.06 2.06-.94-2.06-.94-.94-2.06-.94 2.06-2.06.94zm-11 1L8.5 8.5l.94-2.06 2.06-.94-2.06-.94L8.5 2.5l-.94 2.06-2.06.94zm10 10l.94 2.06.94-2.06 2.06-.94-2.06-.94-.94-2.06-.94 2.06-2.06.94z\"/><path d=\"M17.41 7.96l-1.37-1.37c-.4-.4-.92-.59-1.43-.59-.52 0-1.04.2-1.43.59L10.3 9.45l-7.72 7.72c-.78.78-.78 2.05 0 2.83L4 21.41c.39.39.9.59 1.41.59.51 0 1.02-.2 1.41-.59l7.78-7.78 2.81-2.81c.8-.78.8-2.07 0-2.86zM5.41 20L4 18.59l7.72-7.72 1.47 1.35L5.41 20z\"/>\n",
              "  </svg>\n",
              "      </button>\n",
              "      \n",
              "  <style>\n",
              "    .colab-df-container {\n",
              "      display:flex;\n",
              "      flex-wrap:wrap;\n",
              "      gap: 12px;\n",
              "    }\n",
              "\n",
              "    .colab-df-convert {\n",
              "      background-color: #E8F0FE;\n",
              "      border: none;\n",
              "      border-radius: 50%;\n",
              "      cursor: pointer;\n",
              "      display: none;\n",
              "      fill: #1967D2;\n",
              "      height: 32px;\n",
              "      padding: 0 0 0 0;\n",
              "      width: 32px;\n",
              "    }\n",
              "\n",
              "    .colab-df-convert:hover {\n",
              "      background-color: #E2EBFA;\n",
              "      box-shadow: 0px 1px 2px rgba(60, 64, 67, 0.3), 0px 1px 3px 1px rgba(60, 64, 67, 0.15);\n",
              "      fill: #174EA6;\n",
              "    }\n",
              "\n",
              "    [theme=dark] .colab-df-convert {\n",
              "      background-color: #3B4455;\n",
              "      fill: #D2E3FC;\n",
              "    }\n",
              "\n",
              "    [theme=dark] .colab-df-convert:hover {\n",
              "      background-color: #434B5C;\n",
              "      box-shadow: 0px 1px 3px 1px rgba(0, 0, 0, 0.15);\n",
              "      filter: drop-shadow(0px 1px 2px rgba(0, 0, 0, 0.3));\n",
              "      fill: #FFFFFF;\n",
              "    }\n",
              "  </style>\n",
              "\n",
              "      <script>\n",
              "        const buttonEl =\n",
              "          document.querySelector('#df-23b634ff-0ae9-4d68-b868-7b0c780277f1 button.colab-df-convert');\n",
              "        buttonEl.style.display =\n",
              "          google.colab.kernel.accessAllowed ? 'block' : 'none';\n",
              "\n",
              "        async function convertToInteractive(key) {\n",
              "          const element = document.querySelector('#df-23b634ff-0ae9-4d68-b868-7b0c780277f1');\n",
              "          const dataTable =\n",
              "            await google.colab.kernel.invokeFunction('convertToInteractive',\n",
              "                                                     [key], {});\n",
              "          if (!dataTable) return;\n",
              "\n",
              "          const docLinkHtml = 'Like what you see? Visit the ' +\n",
              "            '<a target=\"_blank\" href=https://colab.research.google.com/notebooks/data_table.ipynb>data table notebook</a>'\n",
              "            + ' to learn more about interactive tables.';\n",
              "          element.innerHTML = '';\n",
              "          dataTable['output_type'] = 'display_data';\n",
              "          await google.colab.output.renderOutput(dataTable, element);\n",
              "          const docLink = document.createElement('div');\n",
              "          docLink.innerHTML = docLinkHtml;\n",
              "          element.appendChild(docLink);\n",
              "        }\n",
              "      </script>\n",
              "    </div>\n",
              "  </div>\n",
              "  "
            ]
          },
          "metadata": {},
          "execution_count": 63
        }
      ]
    },
    {
      "cell_type": "code",
      "source": [
        "data_short.hist(\"NACCICV\",bins=50),data_short.hist(\"CSFVOL\"),data_short.hist(\"WMHVOL\"),data_short.hist(\"WHITEVOL\")"
      ],
      "metadata": {
        "colab": {
          "base_uri": "https://localhost:8080/",
          "height": 1000
        },
        "id": "UYaEnRp0uX1b",
        "outputId": "a8649863-7c6e-4a77-e638-68f7d841c7f4"
      },
      "execution_count": 64,
      "outputs": [
        {
          "output_type": "execute_result",
          "data": {
            "text/plain": [
              "(array([[<matplotlib.axes._subplots.AxesSubplot object at 0x7f7cfcf5c610>]],\n",
              "       dtype=object),\n",
              " array([[<matplotlib.axes._subplots.AxesSubplot object at 0x7f7cfcbe8090>]],\n",
              "       dtype=object),\n",
              " array([[<matplotlib.axes._subplots.AxesSubplot object at 0x7f7cfcbbe210>]],\n",
              "       dtype=object),\n",
              " array([[<matplotlib.axes._subplots.AxesSubplot object at 0x7f7cfcb18390>]],\n",
              "       dtype=object))"
            ]
          },
          "metadata": {},
          "execution_count": 64
        },
        {
          "output_type": "display_data",
          "data": {
            "text/plain": [
              "<Figure size 432x288 with 1 Axes>"
            ],
            "image/png": "[encoded data removed]"
          },
          "metadata": {
            "needs_background": "light"
          }
        },
        {
          "output_type": "display_data",
          "data": {
            "text/plain": [
              "<Figure size 432x288 with 1 Axes>"
            ],
            "image/png": "[encoded data removed]"
          },
          "metadata": {
            "needs_background": "light"
          }
        },
        {
          "output_type": "display_data",
          "data": {
            "text/plain": [
              "<Figure size 432x288 with 1 Axes>"
            ],
            "image/png": "[encoded data removed]"
          },
          "metadata": {
            "needs_background": "light"
          }
        },
        {
          "output_type": "display_data",
          "data": {
            "text/plain": [
              "<Figure size 432x288 with 1 Axes>"
            ],
            "image/png": "[encoded data removed]"
          },
          "metadata": {
            "needs_background": "light"
          }
        }
      ]
    },
    {
      "cell_type": "code",
      "source": [
        "\n",
        "data_short[\"CSFVOL\"].hist(bins=80,color=\"blue\")\n",
        "data_short[\"WMHVOL\"].hist(bins=80,color=\"orange\")\n",
        "data_short[\"WHITEVOL\"].hist(bins=80,color=\"green\")\n"
      ],
      "metadata": {
        "colab": {
          "base_uri": "https://localhost:8080/",
          "height": 282
        },
        "id": "fBt7iiOav8qF",
        "outputId": "aceb55e9-904c-4938-f78c-35d6d1dff16d"
      },
      "execution_count": 65,
      "outputs": [
        {
          "output_type": "execute_result",
          "data": {
            "text/plain": [
              "<matplotlib.axes._subplots.AxesSubplot at 0x7f7cfca27890>"
            ]
          },
          "metadata": {},
          "execution_count": 65
        },
        {
          "output_type": "display_data",
          "data": {
            "text/plain": [
              "<Figure size 432x288 with 1 Axes>"
            ],
            "image/png": "[encoded data removed]"
          },
          "metadata": {
            "needs_background": "light"
          }
        }
      ]
    },
    {
      "cell_type": "code",
      "source": [
        "data_short.boxplot()"
      ],
      "metadata": {
        "colab": {
          "base_uri": "https://localhost:8080/",
          "height": 283
        },
        "id": "eDWfz3MzwoqB",
        "outputId": "fa8caab8-bfa3-4f44-ac34-5c14a4d32640"
      },
      "execution_count": 66,
      "outputs": [
        {
          "output_type": "execute_result",
          "data": {
            "text/plain": [
              "<matplotlib.axes._subplots.AxesSubplot at 0x7f7cfe3d82d0>"
            ]
          },
          "metadata": {},
          "execution_count": 66
        },
        {
          "output_type": "display_data",
          "data": {
            "text/plain": [
              "<Figure size 432x288 with 1 Axes>"
            ],
            "image/png": "[encoded data removed]"
          },
          "metadata": {
            "needs_background": "light"
          }
        }
      ]
    },
    {
      "cell_type": "code",
      "source": [
        "data_short.pivot_table(\"CSFVOL\", index=\"GENDER\", columns = \"CDRGLOB\").plot(kind=\"bar\")"
      ],
      "metadata": {
        "colab": {
          "base_uri": "https://localhost:8080/",
          "height": 293
        },
        "id": "kW5EWxKfxilL",
        "outputId": "9599a8f0-8b71-4a4f-ec00-53e67985c941"
      },
      "execution_count": 67,
      "outputs": [
        {
          "output_type": "execute_result",
          "data": {
            "text/plain": [
              "<matplotlib.axes._subplots.AxesSubplot at 0x7f7cfc596d90>"
            ]
          },
          "metadata": {},
          "execution_count": 67
        },
        {
          "output_type": "display_data",
          "data": {
            "text/plain": [
              "<Figure size 432x288 with 1 Axes>"
            ],
            "image/png": "[encoded data removed]"
          },
          "metadata": {
            "needs_background": "light"
          }
        }
      ]
    },
    {
      "cell_type": "code",
      "source": [
        "x1 = data_short[\"GENDER\"]\n",
        "y1= data_short[\"CSFVOL\"]\n",
        "plt.scatter(x1, y1, color='c')\n"
      ],
      "metadata": {
        "colab": {
          "base_uri": "https://localhost:8080/",
          "height": 282
        },
        "id": "uE9EqXGNzz6e",
        "outputId": "cc5e262c-54c0-4a97-ecfe-e1985f04de67"
      },
      "execution_count": 91,
      "outputs": [
        {
          "output_type": "execute_result",
          "data": {
            "text/plain": [
              "<matplotlib.collections.PathCollection at 0x7f7cf8621f10>"
            ]
          },
          "metadata": {},
          "execution_count": 91
        },
        {
          "output_type": "display_data",
          "data": {
            "text/plain": [
              "<Figure size 432x288 with 1 Axes>"
            ],
            "image/png": "[encoded data removed]"
          },
          "metadata": {
            "needs_background": "light"
          }
        }
      ]
    },
    {
      "cell_type": "code",
      "source": [
        "y2= data_short[\"CSFVOL\"]\n",
        "x2 = data_short[\"CDRGLOB\"]\n",
        "plt.scatter(x2,y2,color='g')"
      ],
      "metadata": {
        "colab": {
          "base_uri": "https://localhost:8080/",
          "height": 282
        },
        "id": "sEAxJG570LvS",
        "outputId": "61669870-5663-4823-eeba-639528bbb26d"
      },
      "execution_count": 92,
      "outputs": [
        {
          "output_type": "execute_result",
          "data": {
            "text/plain": [
              "<matplotlib.collections.PathCollection at 0x7f7cf844c610>"
            ]
          },
          "metadata": {},
          "execution_count": 92
        },
        {
          "output_type": "display_data",
          "data": {
            "text/plain": [
              "<Figure size 432x288 with 1 Axes>"
            ],
            "image/png": "[encoded data removed]"
          },
          "metadata": {
            "needs_background": "light"
          }
        }
      ]
    },
    {
      "cell_type": "code",
      "source": [],
      "metadata": {
        "id": "c3njFE7i5CwF"
      },
      "execution_count": null,
      "outputs": []
    }
  ]
}